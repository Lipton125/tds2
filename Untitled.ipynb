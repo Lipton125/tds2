{
 "cells": [
  {
   "cell_type": "code",
   "execution_count": 12,
   "id": "4b50aa80-e886-41e2-a759-c2104fddaf69",
   "metadata": {},
   "outputs": [
    {
     "name": "stdout",
     "output_type": "stream",
     "text": [
      "Total input tokens (including overhead): 466\n"
     ]
    }
   ],
   "source": [
    "import tiktoken\n",
    "\n",
    "def count_chat_input_tokens(messages, model=\"gpt-4o-mini\"):\n",
    "    \"\"\"\n",
    "    Count tokens for a list of chat messages to OpenAI API,\n",
    "    including role and message overheads.\n",
    "\n",
    "    messages: List of dicts like [{\"role\": \"user\", \"content\": \"text\"}, ...]\n",
    "    model: OpenAI model name to select tokenizer\n",
    "\n",
    "    Returns: total token count (int)\n",
    "    \"\"\"\n",
    "\n",
    "    enc = tiktoken.encoding_for_model(model)\n",
    "\n",
    "    # According to OpenAI docs, every message in chat format is wrapped with:\n",
    "    # <im_start>{role}\\n{content}<im_end>\\n\n",
    "    # Which is roughly 4 tokens overhead per message, plus 3 tokens request priming.\n",
    "\n",
    "    tokens_per_message = 4\n",
    "    tokens_per_request = 3\n",
    "\n",
    "    num_tokens = tokens_per_request\n",
    "    for message in messages:\n",
    "        # count tokens in role + content + overhead\n",
    "        num_tokens += tokens_per_message\n",
    "        num_tokens += len(enc.encode(message[\"content\"]))\n",
    "        # role is always \"user\" or \"system\" - very short, usually 1 token, but counted in overhead\n",
    "\n",
    "    return num_tokens\n",
    "\n",
    "# Your test prompt:\n",
    "user_message = {\n",
    "    \"role\": \"user\",\n",
    "    \"content\": (\"List only the valid English words from these: h8t4Wf, om, APcmdN9, MpZ33uyd, B1pXR4u, \"\n",
    "                \"fsTFXlbim, nrClRN, Sg, GTIaS, HfSJ2, cofU1, ahG, CDRCrg3p, sJmYL, T1, gfOlYL, MY670jXG7Z, \"\n",
    "                \"F, 5Weri, zc, vZkBo4tvO, 3ABe, sACmF2txy0, CzilMo, OgdeyOFa, Ez, cl67HT, Z, O8, 31LLka, \"\n",
    "                \"Nxn2D99uG, S5W4e4g, L, LbfD, UqM33wdk, hqWn, Q7MB, Wx1A, kH, 41uiT0mEe, 8YVywe, 4U, o9Qo, aX, Y, \"\n",
    "                \"gGzaHV, Asi7H9hKk3, DTbmxBCBTM, fb, ux1l0, d9, Vsz2, elnYD, tKFHatHP, wkmhiePjE, rZZDVZ, 4lHqN, \"\n",
    "                \"zPQwF8V1, o8ARpA3, 92jNughr0, k, zW04z, Rt7LYIEC, R3M6UN, BT6yVbXqf, W02vpFSpV, ERDT, \"\n",
    "                \"rCHXpDTEa4, m8NGa, bDpveIEZ, MfRz, T2gk, x7m, x6ZQXIco, XiF, 2UWTz, zRG8B, 5mckPeV, MS1rxoj, \"\n",
    "                \"rFNQwARYHA, 47SidSmf, tEV, MxXR488Dm, qzXXey2T1P, ppaaHx, gFOdB6LZ, aD38EWZ\")\n",
    "}\n",
    "\n",
    "messages = [user_message]\n",
    "\n",
    "total_tokens = count_chat_input_tokens(messages)\n",
    "print(f\"Total input tokens (including overhead): {total_tokens}\")\n"
   ]
  },
  {
   "cell_type": "code",
   "execution_count": 15,
   "id": "14aaced1-0aac-47cf-abfa-f779d9be37ec",
   "metadata": {},
   "outputs": [
    {
     "ename": "ModuleNotFoundError",
     "evalue": "No module named 'pytesseract'",
     "output_type": "error",
     "traceback": [
      "\u001b[31m---------------------------------------------------------------------------\u001b[39m",
      "\u001b[31mModuleNotFoundError\u001b[39m                       Traceback (most recent call last)",
      "\u001b[36mCell\u001b[39m\u001b[36m \u001b[39m\u001b[32mIn[15]\u001b[39m\u001b[32m, line 7\u001b[39m\n\u001b[32m      5\u001b[39m \u001b[38;5;28;01mimport\u001b[39;00m\u001b[38;5;250m \u001b[39m\u001b[34;01mnumpy\u001b[39;00m\u001b[38;5;250m \u001b[39m\u001b[38;5;28;01mas\u001b[39;00m\u001b[38;5;250m \u001b[39m\u001b[34;01mnp\u001b[39;00m\n\u001b[32m      6\u001b[39m \u001b[38;5;28;01mimport\u001b[39;00m\u001b[38;5;250m \u001b[39m\u001b[34;01mopenai\u001b[39;00m\n\u001b[32m----> \u001b[39m\u001b[32m7\u001b[39m \u001b[38;5;28;01mimport\u001b[39;00m\u001b[38;5;250m \u001b[39m\u001b[34;01mpytesseract\u001b[39;00m\n\u001b[32m      8\u001b[39m \u001b[38;5;28;01mfrom\u001b[39;00m\u001b[38;5;250m \u001b[39m\u001b[34;01mio\u001b[39;00m\u001b[38;5;250m \u001b[39m\u001b[38;5;28;01mimport\u001b[39;00m BytesIO\n\u001b[32m      9\u001b[39m \u001b[38;5;28;01mfrom\u001b[39;00m\u001b[38;5;250m \u001b[39m\u001b[34;01mPIL\u001b[39;00m\u001b[38;5;250m \u001b[39m\u001b[38;5;28;01mimport\u001b[39;00m Image\n",
      "\u001b[31mModuleNotFoundError\u001b[39m: No module named 'pytesseract'"
     ]
    }
   ],
   "source": []
  }
 ],
 "metadata": {
  "kernelspec": {
   "display_name": "Python 3 (ipykernel)",
   "language": "python",
   "name": "python3"
  },
  "language_info": {
   "codemirror_mode": {
    "name": "ipython",
    "version": 3
   },
   "file_extension": ".py",
   "mimetype": "text/x-python",
   "name": "python",
   "nbconvert_exporter": "python",
   "pygments_lexer": "ipython3",
   "version": "3.13.2"
  }
 },
 "nbformat": 4,
 "nbformat_minor": 5
}
