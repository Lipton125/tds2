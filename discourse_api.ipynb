{
 "cells": [
  {
   "cell_type": "code",
   "execution_count": 2,
   "id": "02ae281a-7bea-4519-a213-6a791654a12a",
   "metadata": {},
   "outputs": [
    {
     "name": "stderr",
     "output_type": "stream",
     "text": [
      "100%|███████████████████████████████████████████| 20/20 [00:08<00:00,  2.31it/s]\n",
      "100%|█████████████████████████████████████████| 600/600 [02:17<00:00,  4.35it/s]"
     ]
    },
    {
     "name": "stdout",
     "output_type": "stream",
     "text": [
      "Scraped 1107 posts.\n"
     ]
    },
    {
     "name": "stderr",
     "output_type": "stream",
     "text": [
      "\n"
     ]
    }
   ],
   "source": [
    "import requests\n",
    "from bs4 import BeautifulSoup\n",
    "from datetime import datetime, timezone\n",
    "from tqdm import tqdm\n",
    "import json\n",
    "\n",
    "# Your session cookie (_t value only, not the full cookie header)\n",
    "DISCOURSE_COOKIE = \"LqY08BQ2M3oFnhYj3l3PXW7liWUmgVvkLvfdAI9aLdATkMVu6RX0R3smIdnNW55kXnW%2FihK3XvOIC0K5G53blgOE0s9Udec4eW0%2FAq1FHJURLuM7wFfPcoIdv4LY6VFmALBmpE4MhRXU7WQDp%2BNmKS0mgNUENPz%2BWPILs0K1oYK91AhXNJzuJyUQiY%2BZe1kCKjPkgmgRaYa%2BrcYZ7yJbFE%2BcT%2BnmF%2BgRc9agvHn%2B0Fp4CHqYrMHDlzEqHQat2cBrZhK0XgAdS0ROyQnsCooZN6gQn44i1Rt7H26X0xWoMQTgg%2BJvve6rX3qGwToS9B2D0GRONqevQ%2BA%3D--sZ1bQwgq%2B9ZP4%2F2J--UmFPNR9KyIhX3uX1heAiMA%3D%3D\"\n",
    "\n",
    "session = requests.Session()\n",
    "session.cookies.set(\"_t\", DISCOURSE_COOKIE, domain=\"discourse.onlinedegree.iitm.ac.in\")\n",
    "session.headers.update({\"User-Agent\": \"Mozilla/5.0\"})\n",
    "\n",
    "BASE_URL = \"https://discourse.onlinedegree.iitm.ac.in\"\n",
    "\n",
    "def get_topic_ids(category_slug=\"courses/tds-kb\", category_id=34):\n",
    "    topics = []\n",
    "    for page in tqdm(range(0, 20)):  # Adjust if you want more pages\n",
    "        url = f\"{BASE_URL}/c/{category_slug}/{category_id}.json?page={page}\"\n",
    "        r = session.get(url)\n",
    "        if r.status_code != 200:\n",
    "            break\n",
    "        data = r.json()\n",
    "        new_topics = data[\"topic_list\"][\"topics\"]\n",
    "        if not new_topics:\n",
    "            break\n",
    "        topics.extend(new_topics)\n",
    "    return topics\n",
    "\n",
    "def get_posts_in_topic(topic_id):\n",
    "    r = session.get(f\"{BASE_URL}/t/{topic_id}.json\")\n",
    "    if r.status_code != 200:\n",
    "        return []\n",
    "    data = r.json()\n",
    "    return [\n",
    "        {\n",
    "            \"username\": post[\"username\"],\n",
    "            \"created_at\": post[\"created_at\"],\n",
    "            \"content\": BeautifulSoup(post[\"cooked\"], \"html.parser\").get_text(),\n",
    "            \"post_url\": f\"{BASE_URL}/t/{topic_id}/{post['post_number']}\"\n",
    "        }\n",
    "        for post in data[\"post_stream\"][\"posts\"]\n",
    "    ]\n",
    "\n",
    "all_posts = []\n",
    "topics = get_topic_ids()\n",
    "\n",
    "for topic in tqdm(topics):\n",
    "    # Parse created_at as timezone-aware datetime (UTC)\n",
    "    created_at = datetime.fromisoformat(topic[\"created_at\"].replace(\"Z\", \"+00:00\"))\n",
    "    # Compare with a timezone-aware datetime for Jan 1, 2025 UTC\n",
    "    if created_at >= datetime(2025, 1, 1, tzinfo=timezone.utc):\n",
    "        posts = get_posts_in_topic(topic[\"id\"])\n",
    "        all_posts.extend(posts)\n",
    "\n",
    "# Save the scraped posts into a JSON file\n",
    "with open(\"tds_discourse_posts.json\", \"w\", encoding=\"utf-8\") as f:\n",
    "    json.dump(all_posts, f, indent=2, ensure_ascii=False)\n",
    "\n",
    "print(f\"Scraped {len(all_posts)} posts.\")\n"
   ]
  }
 ],
 "metadata": {
  "kernelspec": {
   "display_name": "Python 3 (ipykernel)",
   "language": "python",
   "name": "python3"
  },
  "language_info": {
   "codemirror_mode": {
    "name": "ipython",
    "version": 3
   },
   "file_extension": ".py",
   "mimetype": "text/x-python",
   "name": "python",
   "nbconvert_exporter": "python",
   "pygments_lexer": "ipython3",
   "version": "3.13.2"
  }
 },
 "nbformat": 4,
 "nbformat_minor": 5
}
